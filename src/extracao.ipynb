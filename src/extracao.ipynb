{
 "cells": [
  {
   "cell_type": "code",
   "execution_count": 2,
   "metadata": {},
   "outputs": [],
   "source": [
    "import pyodbc \n",
    "import sqlalchemy \n",
    "import pandas"
   ]
  },
  {
   "cell_type": "code",
   "execution_count": 6,
   "metadata": {},
   "outputs": [
    {
     "name": "stderr",
     "output_type": "stream",
     "text": [
      "C:\\Users\\Lucas\\AppData\\Local\\Temp\\ipykernel_8496\\3793003064.py:21: UserWarning: pandas only supports SQLAlchemy connectable (engine/connection) or database string URI or sqlite3 DBAPI2 connection. Other DBAPI2 objects are not tested. Please consider using SQLAlchemy.\n",
      "  df = pd.read_sql('SELECT * FROM Microdados', access_conn)\n"
     ]
    },
    {
     "name": "stdout",
     "output_type": "stream",
     "text": [
      "Tabela Microdados exportada para o SQLite com sucesso!\n"
     ]
    }
   ],
   "source": [
    "import pyodbc\n",
    "import pandas as pd\n",
    "import sqlite3\n",
    "\n",
    "# Defina o caminho para o seu arquivo .accdb do Access\n",
    "access_db_file = 'caminho_db'\n",
    "\n",
    "# Crie a string de conexão ODBC para Access\n",
    "access_conn_str = (\n",
    "    r'DRIVER={Microsoft Access Driver (*.mdb, *.accdb)};'\n",
    "    f'DBQ={access_db_file};'\n",
    ")\n",
    "\n",
    "# Estabeleça a conexão com o banco de dados Access\n",
    "access_conn = pyodbc.connect(access_conn_str)\n",
    "\n",
    "# Crie uma conexão SQLite (arquivo SQLite será criado se não existir)\n",
    "sqlite_conn = sqlite3.connect('caminho_db')\n",
    "\n",
    "# Leia os dados da tabela Microdados do Access em um DataFrame\n",
    "df = pd.read_sql('SELECT * FROM Microdados', access_conn)\n",
    "\n",
    "# Exporte o DataFrame para o SQLite\n",
    "df.to_sql('Microdados', sqlite_conn, if_exists='replace', index=False)\n",
    "print('Tabela Microdados exportada para o SQLite com sucesso!')\n",
    "\n",
    "# Feche as conexões\n",
    "access_conn.close()\n",
    "sqlite_conn.close()\n"
   ]
  }
 ],
 "metadata": {
  "kernelspec": {
   "display_name": "Python 3",
   "language": "python",
   "name": "python3"
  },
  "language_info": {
   "codemirror_mode": {
    "name": "ipython",
    "version": 3
   },
   "file_extension": ".py",
   "mimetype": "text/x-python",
   "name": "python",
   "nbconvert_exporter": "python",
   "pygments_lexer": "ipython3",
   "version": "3.12.4"
  }
 },
 "nbformat": 4,
 "nbformat_minor": 2
}
